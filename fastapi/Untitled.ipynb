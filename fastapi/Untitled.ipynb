{
 "cells": [
  {
   "cell_type": "code",
   "execution_count": 106,
   "id": "0a5a3e47-3db8-431e-a84b-85f30355eee9",
   "metadata": {},
   "outputs": [],
   "source": [
    "import pandas as pd\n",
    "import requests\n",
    "import matplotlib.pyplot as plt\n",
    "import seaborn as sns"
   ]
  },
  {
   "cell_type": "code",
   "execution_count": 332,
   "id": "181923fc-3e23-4eb3-83ff-b4edb0864cb4",
   "metadata": {},
   "outputs": [
    {
     "name": "stdout",
     "output_type": "stream",
     "text": [
      "200\n",
      "{'err': 0, 'data': [[-8.25041227769142, -55.17685588652, 0.619519246511073, 'jc1'], [-8.17711736493474, -45.4946733035753, -0.833248654252203, 'jc1'], [-11.3237274510885, -54.7322225787412, -0.741401263322975, 'jc1'], [-13.3974385377375, -54.2829061530929, 0.665661563804599, 'jc1'], [-13.3040581912073, -54.3012010684599, 2.24041774371044, 'jc1'], [-4.98548293210688, -35.898469030872, 0.87701741671521, 'jc2'], [-8.17717873050415, -45.4946946344065, -0.832885113039116, 'jc2'], [-9.7074970262532, -45.1948044187776, -0.854094743453206, 'jc2'], [-11.870263129032, -45.4622946656112, 0.459547745636723, 'jc2'], [-11.7861433795561, -45.4344253323938, 2.1446848770042, 'jc2'], [-7.27991828700309, -44.7035077065122, -0.826098535618528, 'jc3'], [-8.17728080727888, -45.4947530276968, -0.832857634963538, 'jc3'], [-9.70763551853321, -45.1946732751124, -0.854048901003128, 'jc3'], [-10.2562818573821, -35.0774176879201, 0.430010396946658, 'jc3'], [-10.1651146167103, -35.0728424365923, 1.8635554352071, 'jc3'], [-3.52632404163058, -25.5139547305774, -0.138130027395278, 'jc4'], [-4.97418824046358, -25.6402191939824, -1.16413833119181, 'jc4'], [-6.55411532538013, -25.6785532780456, -1.18034431190613, 'jc4'], [-8.58116623747949, -24.7346399908269, 0.18482390741332, 'jc4'], [-8.5414238419714, -24.7032204269836, 1.62691153094629, 'jc4'], [-2.02669720220227, -16.5932312026474, 0.393704432538329, 'jc5'], [-3.53832943311556, -15.756931918824, -1.37983955310199, 'jc5'], [-5.05706715001187, -15.5393313124362, -1.40057888899009, 'jc5'], [-7.28258350715084, -15.8487626084547, 0.0960170789998475, 'jc5'], [-7.19718583555709, -15.8132575682557, 1.49043075047446, 'jc5'], [-0.731840674429287, -6.18504996568694, -0.586381354634856, 'jc6'], [-2.17103390098076, -6.19112511241675, -1.61419860091405, 'jc6'], [-3.67195197451784, -5.46593684984741, -1.64856982617952, 'jc6'], [-5.599071375527, -3.98997403416693, -0.243284756899985, 'jc6'], [-5.54873245247724, -3.95585679317804, 1.15413622687508, 'jc6'], [0.670690000386326, 4.23729844533142, -0.849618449419287, 'jc7'], [-0.778819308609778, 3.86802223047379, -1.86970667736415, 'jc7'], [-2.37631852265789, 4.12128890966609, -1.89035978368885, 'jc7'], [-4.38618461393775, 4.92749812047633, -0.572485101720522, 'jc7'], [-4.3539536386092, 4.96938366296311, 0.920427468964366, 'jc7'], [1.93674871024155, 14.658375004557, -1.40230058311581, 'jc8'], [0.523755323014068, 14.0024798853533, -2.1278163062433, 'jc8'], [-1.04582378350567, 14.1635660862747, -2.14086897184252, 'jc8'], [-2.97112620735615, 15.34509170278, -0.857597108459862, 'jc8'], [-3.04632430364388, 15.3604258518809, 0.246237299396912, 'jc8'], [3.3347482210758, 23.6256348071867, -0.618957803441099, 'jc9'], [1.79018449755992, 24.0475294881022, -2.38600254210506, 'jc9'], [0.170050354017395, 24.2418361914969, -2.39193317211672, 'jc9'], [-1.89531008498239, 24.2379705110292, -1.05482481240934, 'jc9'], [-1.92514266834407, 24.2670509040566, 0.165749307414229, 'jc9'], [4.42852816546422, 34.0361085172764, -1.61713086996537, 'jc10'], [2.92709390298481, 33.618167451953, -2.63136129068203, 'jc10'], [1.36510497530032, 33.8736814973488, -2.63426671948849, 'jc10'], [-0.637459203544322, 34.653725040935, -1.30384535522088, 'jc10'], [-0.597865617203669, 34.6959344750289, 0.167630461155971, 'jc10'], [5.56131649262174, 42.9944573923223, -1.78454581356464, 'jc11'], [4.18094654024237, 43.7701626202295, -2.8850666341927, 'jc11'], [2.61938452339778, 43.9158876420173, -2.88511979326837, 'jc11'], [0.461380705788553, 43.5795821735792, -1.53933679266861, 'jc11'], [0.507885842808758, 43.626396020491, -0.0606023353255559, 'jc11']]}\n"
     ]
    }
   ],
   "source": [
    "import requests\n",
    "\n",
    "url = \"http://0.0.0.0:8000/tunnel/point\"\n",
    "\n",
    "response = requests.get(url)\n",
    "print(response.status_code)\n",
    "print(response.json())"
   ]
  },
  {
   "cell_type": "code",
   "execution_count": 333,
   "id": "30b48e61-bfa0-4160-80e8-5147a53450ba",
   "metadata": {},
   "outputs": [],
   "source": [
    "target = response.json()['data'][20]\n",
    "x, y, z, cate = target"
   ]
  },
  {
   "cell_type": "code",
   "execution_count": 334,
   "id": "c752515d-56cc-49f9-a029-364bc42d380b",
   "metadata": {},
   "outputs": [],
   "source": [
    "df = pd.read_excel('深圳地铁轨道数据.xlsx')\n",
    "df = df[~df['测点编号'].isin(['kz1', 'kz2', 'kz3', 'kz4'])]\n",
    "df['测点编号2'], df['测点编号2_index'] = df['测点编号'].str.split('-').str[0], df['测点编号'].str.split('-').str[1]"
   ]
  },
  {
   "cell_type": "code",
   "execution_count": 335,
   "id": "959dbb32-d9fc-4972-a44a-5af4c878addf",
   "metadata": {},
   "outputs": [],
   "source": [
    "df_index = df.iloc[:55, :]\n",
    "df = (df.sort_values(by = ['测点编号', '采集时间'], ascending = [True, True])\n",
    "        .reset_index(drop = True))"
   ]
  },
  {
   "cell_type": "code",
   "execution_count": 336,
   "id": "f1b9041b-c834-4ca3-98c8-0438362e2783",
   "metadata": {},
   "outputs": [],
   "source": [
    "window = 1\n",
    "for col in ['东累计变形量(mm)', '北累计变形量(mm)', '高程累计变形量(mm)']:\n",
    "    df[f'{col}_mean'] = (\n",
    "                df\n",
    "                .groupby('测点编号')[col]\n",
    "                .rolling(window, min_periods=1)\n",
    "                .mean()\n",
    "                .reset_index(level=0, drop=True))"
   ]
  },
  {
   "cell_type": "code",
   "execution_count": 337,
   "id": "288a0915-8642-41b6-b17c-22187576c148",
   "metadata": {},
   "outputs": [
    {
     "data": {
      "text/html": [
       "<div>\n",
       "<style scoped>\n",
       "    .dataframe tbody tr th:only-of-type {\n",
       "        vertical-align: middle;\n",
       "    }\n",
       "\n",
       "    .dataframe tbody tr th {\n",
       "        vertical-align: top;\n",
       "    }\n",
       "\n",
       "    .dataframe thead th {\n",
       "        text-align: right;\n",
       "    }\n",
       "</style>\n",
       "<table border=\"1\" class=\"dataframe\">\n",
       "  <thead>\n",
       "    <tr style=\"text-align: right;\">\n",
       "      <th></th>\n",
       "      <th>东累计变形量(mm)</th>\n",
       "      <th>东累计变形量(mm)_mean</th>\n",
       "    </tr>\n",
       "  </thead>\n",
       "  <tbody>\n",
       "    <tr>\n",
       "      <th>0</th>\n",
       "      <td>-0.705834</td>\n",
       "      <td>-0.705834</td>\n",
       "    </tr>\n",
       "    <tr>\n",
       "      <th>1</th>\n",
       "      <td>-0.601951</td>\n",
       "      <td>-0.601951</td>\n",
       "    </tr>\n",
       "    <tr>\n",
       "      <th>2</th>\n",
       "      <td>-0.615088</td>\n",
       "      <td>-0.615088</td>\n",
       "    </tr>\n",
       "    <tr>\n",
       "      <th>3</th>\n",
       "      <td>-0.197185</td>\n",
       "      <td>-0.197185</td>\n",
       "    </tr>\n",
       "    <tr>\n",
       "      <th>4</th>\n",
       "      <td>-0.484272</td>\n",
       "      <td>-0.484272</td>\n",
       "    </tr>\n",
       "    <tr>\n",
       "      <th>...</th>\n",
       "      <td>...</td>\n",
       "      <td>...</td>\n",
       "    </tr>\n",
       "    <tr>\n",
       "      <th>2305</th>\n",
       "      <td>0.011904</td>\n",
       "      <td>0.011904</td>\n",
       "    </tr>\n",
       "    <tr>\n",
       "      <th>2306</th>\n",
       "      <td>-0.001800</td>\n",
       "      <td>-0.001800</td>\n",
       "    </tr>\n",
       "    <tr>\n",
       "      <th>2307</th>\n",
       "      <td>0.157228</td>\n",
       "      <td>0.157228</td>\n",
       "    </tr>\n",
       "    <tr>\n",
       "      <th>2308</th>\n",
       "      <td>0.049996</td>\n",
       "      <td>0.049996</td>\n",
       "    </tr>\n",
       "    <tr>\n",
       "      <th>2309</th>\n",
       "      <td>-0.005919</td>\n",
       "      <td>-0.005919</td>\n",
       "    </tr>\n",
       "  </tbody>\n",
       "</table>\n",
       "<p>2310 rows × 2 columns</p>\n",
       "</div>"
      ],
      "text/plain": [
       "      东累计变形量(mm)  东累计变形量(mm)_mean\n",
       "0      -0.705834        -0.705834\n",
       "1      -0.601951        -0.601951\n",
       "2      -0.615088        -0.615088\n",
       "3      -0.197185        -0.197185\n",
       "4      -0.484272        -0.484272\n",
       "...          ...              ...\n",
       "2305    0.011904         0.011904\n",
       "2306   -0.001800        -0.001800\n",
       "2307    0.157228         0.157228\n",
       "2308    0.049996         0.049996\n",
       "2309   -0.005919        -0.005919\n",
       "\n",
       "[2310 rows x 2 columns]"
      ]
     },
     "execution_count": 337,
     "metadata": {},
     "output_type": "execute_result"
    }
   ],
   "source": [
    "df[['东累计变形量(mm)', '东累计变形量(mm)_mean']]"
   ]
  },
  {
   "cell_type": "code",
   "execution_count": 266,
   "id": "88814769-9f5b-42f6-839a-41e1ddde8f0e",
   "metadata": {},
   "outputs": [],
   "source": [
    "df_target = df_index[df_index.测点编号2 == cate]"
   ]
  },
  {
   "cell_type": "code",
   "execution_count": 269,
   "id": "cd77cf06-dd43-4627-a7db-c15eabea24a8",
   "metadata": {},
   "outputs": [
    {
     "name": "stderr",
     "output_type": "stream",
     "text": [
      "/tmp/ipykernel_12035/855363251.py:1: SettingWithCopyWarning: \n",
      "A value is trying to be set on a copy of a slice from a DataFrame.\n",
      "Try using .loc[row_indexer,col_indexer] = value instead\n",
      "\n",
      "See the caveats in the documentation: https://pandas.pydata.org/pandas-docs/stable/user_guide/indexing.html#returning-a-view-versus-a-copy\n",
      "  df_target['diff'] = (\n"
     ]
    }
   ],
   "source": [
    "df_target['diff'] = (\n",
    "    df_target[['东坐标', '北坐标', '高程']]\n",
    "    .apply(lambda row: (row['东坐标'] - x) +\n",
    "                      (row['北坐标'] - y) +\n",
    "                      (row['高程'] - z), axis=1)\n",
    ")"
   ]
  },
  {
   "cell_type": "code",
   "execution_count": 273,
   "id": "719376f2-a7e1-4182-8811-b5c0e735ceb8",
   "metadata": {},
   "outputs": [
    {
     "data": {
      "text/plain": [
       "20     True\n",
       "21    False\n",
       "22    False\n",
       "23    False\n",
       "24    False\n",
       "Name: diff, dtype: bool"
      ]
     },
     "execution_count": 273,
     "metadata": {},
     "output_type": "execute_result"
    }
   ],
   "source": [
    "df_target['diff'] == 0"
   ]
  },
  {
   "cell_type": "code",
   "execution_count": 272,
   "id": "deb5e1ad-0477-4f5b-8392-58e840c37015",
   "metadata": {},
   "outputs": [
    {
     "data": {
      "text/plain": [
       "np.int64(23)"
      ]
     },
     "execution_count": 272,
     "metadata": {},
     "output_type": "execute_result"
    }
   ],
   "source": [
    "df_target['diff'].idxmin()"
   ]
  },
  {
   "cell_type": "code",
   "execution_count": 228,
   "id": "d1120cbf-9da6-4bb0-960c-baacfbca86ff",
   "metadata": {},
   "outputs": [],
   "source": [
    "#df_target['diff'] = df[['东坐标', '北坐标', '高程']].apply(lambda i: (i[0] - x) + (i[1] - y) + (i[2] - z))\n",
    "\n",
    "\n",
    "PointNo = df_index[(df_index.测点编号2 == cate) & (df_index.东坐标 == x)]['测点编号'].values[0]"
   ]
  },
  {
   "cell_type": "code",
   "execution_count": 229,
   "id": "25915de7-2acd-4197-adf7-7ba99c2264ab",
   "metadata": {},
   "outputs": [],
   "source": [
    "df_point = df[df.测点编号 == PointNo].reset_index(drop=True).reset_index()"
   ]
  },
  {
   "cell_type": "code",
   "execution_count": 231,
   "id": "1855934e-b3e5-454a-ad9d-21a52912a6bd",
   "metadata": {},
   "outputs": [
    {
     "data": {
      "image/png": "[encoded data removed]",
      "text/plain": [
       "<Figure size 800x600 with 1 Axes>"
      ]
     },
     "metadata": {},
     "output_type": "display_data"
    }
   ],
   "source": [
    "import seaborn as sns\n",
    "import matplotlib.pyplot as plt\n",
    "\n",
    "# rc = {'axes.unicode_minus': False}\n",
    "sns.set_theme(context='notebook', style='ticks')\n",
    "fig, ax = plt.subplots(figsize=(8, 6))\n",
    "\n",
    "\n",
    "sns.scatterplot(data=df_point[window - 1:], x='采集时间', y='东累计变形量(mm)_mean',hue = '测点编号', ax=ax)\n",
    "sns.regplot(\n",
    "        data=df_point[window - 1:],\n",
    "        x='index',\n",
    "        y='东累计变形量(mm)_mean',\n",
    "        ci=None,\n",
    "        scatter=False,  # 不重复绘制散点\n",
    "        truncate=True,  # 不延长趋势线到数据范围外\n",
    "        line_kws={'alpha': 0.7, 'linestyle': '--'},  # 设置线样式\n",
    "        ax=ax\n",
    "    )\n",
    "ax.legend().remove()\n",
    "ax.set_ylabel('East cumulative deformation ')\n",
    "plt.xticks(rotation=45)\n",
    "plt.show()"
   ]
  },
  {
   "cell_type": "code",
   "execution_count": null,
   "id": "59f7bbf7-51b7-47ba-9588-304a46743968",
   "metadata": {},
   "outputs": [],
   "source": []
  },
  {
   "cell_type": "code",
   "execution_count": 233,
   "id": "2fbec500-46af-4440-b72f-49552dd46301",
   "metadata": {},
   "outputs": [
    {
     "data": {
      "text/plain": [
       "Index(['index', '测点编号', '东坐标', '东单次变形量(mm)', '东累计变形量(mm)', '北坐标', '北单次变形量(mm)',\n",
       "       '北累计变形量(mm)', '高程', '高程单次变形量(mm)', '高程累计变形量(mm)', '水平角(°)', '竖直角(°)',\n",
       "       '斜距(m)', '采集时间', '备注', '测点编号2', '测点编号2_index', '东累计变形量(mm)_mean',\n",
       "       '北累计变形量(mm)_mean', '高程累计变形量(mm)_mean'],\n",
       "      dtype='object')"
      ]
     },
     "execution_count": 233,
     "metadata": {},
     "output_type": "execute_result"
    }
   ],
   "source": [
    "df_point.columns"
   ]
  },
  {
   "cell_type": "code",
   "execution_count": null,
   "id": "de9de5b1-8f8d-47a1-8895-11c97ae21bcb",
   "metadata": {},
   "outputs": [],
   "source": []
  },
  {
   "cell_type": "code",
   "execution_count": 232,
   "id": "92eed555-52ce-4317-84a5-db87a50ca6af",
   "metadata": {},
   "outputs": [
    {
     "data": {
      "text/html": [
       "<div>\n",
       "<style scoped>\n",
       "    .dataframe tbody tr th:only-of-type {\n",
       "        vertical-align: middle;\n",
       "    }\n",
       "\n",
       "    .dataframe tbody tr th {\n",
       "        vertical-align: top;\n",
       "    }\n",
       "\n",
       "    .dataframe thead th {\n",
       "        text-align: right;\n",
       "    }\n",
       "</style>\n",
       "<table border=\"1\" class=\"dataframe\">\n",
       "  <thead>\n",
       "    <tr style=\"text-align: right;\">\n",
       "      <th></th>\n",
       "      <th>index</th>\n",
       "      <th>东累计变形量(mm)_mean</th>\n",
       "    </tr>\n",
       "  </thead>\n",
       "  <tbody>\n",
       "    <tr>\n",
       "      <th>index</th>\n",
       "      <td>1.000000</td>\n",
       "      <td>-0.199839</td>\n",
       "    </tr>\n",
       "    <tr>\n",
       "      <th>东累计变形量(mm)_mean</th>\n",
       "      <td>-0.199839</td>\n",
       "      <td>1.000000</td>\n",
       "    </tr>\n",
       "  </tbody>\n",
       "</table>\n",
       "</div>"
      ],
      "text/plain": [
       "                    index  东累计变形量(mm)_mean\n",
       "index            1.000000        -0.199839\n",
       "东累计变形量(mm)_mean -0.199839         1.000000"
      ]
     },
     "execution_count": 232,
     "metadata": {},
     "output_type": "execute_result"
    }
   ],
   "source": [
    "df_point.iloc[window - 1 :][['index', '东累计变形量(mm)_mean']].corr()"
   ]
  },
  {
   "cell_type": "code",
   "execution_count": null,
   "id": "efdf011c-ebfe-4faa-a79d-d58c6c666ce3",
   "metadata": {},
   "outputs": [],
   "source": [
    "output = (\n",
    "        df_point[['index' ,'东累计变形量(mm)_mean','北累计变形量(mm)_mean', '高程累计变形量(mm)_mean']]\n",
    "        .to_dict(orient=\"list\")\n",
    "    )\n",
    "\n",
    "a = {\"err\": 0, \"x\": list(zip(output[\"index\"], output[\"东累计变形量(mm)_mean\"])),\n",
    "     \"y\": list(zip(output[\"index\"], output[\"北累计变形量(mm)_mean\"])),\n",
    "     \"z\": list(zip(output[\"index\"], output[\"高程累计变形量(mm)_mean\"])),\n",
    "    }"
   ]
  },
  {
   "cell_type": "code",
   "execution_count": 250,
   "id": "570eee98-420f-4f26-818f-0db7e991c6a2",
   "metadata": {},
   "outputs": [
    {
     "data": {
      "text/plain": [
       "{'err': 0,\n",
       " 'x': [(0, -0.13537375546413),\n",
       "  (1, -0.2307519251831815),\n",
       "  (2, -0.23271060445069966),\n",
       "  (3, -0.18041675758984088),\n",
       "  (4, -0.1895890880120989),\n",
       "  (5, -0.17543854069375103),\n",
       "  (6, -0.12686385166631464),\n",
       "  (7, -0.09691064071297728),\n",
       "  (8, -0.1401314530013132),\n",
       "  (9, -0.07623030854873032),\n",
       "  (10, -0.043263540537008406),\n",
       "  (11, -0.03007939312658068),\n",
       "  (12, -0.03053310596108346),\n",
       "  (13, -0.0053974465576088594),\n",
       "  (14, -0.03315202986398078),\n",
       "  (15, -0.0671410299331931),\n",
       "  (16, -0.04522670909103961),\n",
       "  (17, -0.06309508373565358),\n",
       "  (18, -0.07648164998892418),\n",
       "  (19, -0.05496597449718969),\n",
       "  (20, -0.07606259492778378),\n",
       "  (21, -0.10832534105000846),\n",
       "  (22, -0.10691554912289906),\n",
       "  (23, -0.10712112058239867),\n",
       "  (24, -0.10833027849441748),\n",
       "  (25, -0.09254583796849407),\n",
       "  (26, -0.0860368157327152),\n",
       "  (27, -0.036801009450559995),\n",
       "  (28, -0.0428293930105462),\n",
       "  (29, -0.047384180045195824),\n",
       "  (30, -0.06724921121845641),\n",
       "  (31, -0.04029953679749454),\n",
       "  (32, -0.06612886746211188),\n",
       "  (33, -0.05056556416089808),\n",
       "  (34, -0.11192081494684188),\n",
       "  (35, -0.09790540448415527),\n",
       "  (36, -0.15814683745931632),\n",
       "  (37, -0.16879358540418102),\n",
       "  (38, -0.15917330495911475),\n",
       "  (39, -0.13947423492171035),\n",
       "  (40, -0.15229975709249993),\n",
       "  (41, -0.15253549597371577)],\n",
       " 'y': [(0, -0.714567117551468),\n",
       "  (1, -0.696211220139631),\n",
       "  (2, -0.7073035210514907),\n",
       "  (3, -0.6916424901159955),\n",
       "  (4, -0.6789801916802671),\n",
       "  (5, -0.6773657638674988),\n",
       "  (6, -0.6794680656199146),\n",
       "  (7, -0.6919376213332384),\n",
       "  (8, -0.7072363877234978),\n",
       "  (9, -0.7336733389848861),\n",
       "  (10, -0.7581861059129836),\n",
       "  (11, -0.7683938870115979),\n",
       "  (12, -0.7395463442122716),\n",
       "  (13, -0.7494535922774046),\n",
       "  (14, -0.756634855538607),\n",
       "  (15, -0.7302860850145974),\n",
       "  (16, -0.7218007691754733),\n",
       "  (17, -0.7421590824932878),\n",
       "  (18, -0.732844762702456),\n",
       "  (19, -0.717953937194693),\n",
       "  (20, -0.7353347423887158),\n",
       "  (21, -0.7418310098884717),\n",
       "  (22, -0.7349930536207694),\n",
       "  (23, -0.7089004955886934),\n",
       "  (24, -0.6986605725906258),\n",
       "  (25, -0.6810131181062219),\n",
       "  (26, -0.6901680189272952),\n",
       "  (27, -0.6846121709052966),\n",
       "  (28, -0.6969097787028035),\n",
       "  (29, -0.7113467953161037),\n",
       "  (30, -0.7146281368832776),\n",
       "  (31, -0.708399273464977),\n",
       "  (32, -0.7167508266782364),\n",
       "  (33, -0.716100800674724),\n",
       "  (34, -0.7076413710926488),\n",
       "  (35, -0.6934639437844223),\n",
       "  (36, -0.65740764720843),\n",
       "  (37, -0.6527401038937342),\n",
       "  (38, -0.6610224188975166),\n",
       "  (39, -0.6541369510578932),\n",
       "  (40, -0.6640994202143702),\n",
       "  (41, -0.708553840481585)],\n",
       " 'z': [(0, -0.664832390114889),\n",
       "  (1, -0.784129163249575),\n",
       "  (2, -0.7602163656551161),\n",
       "  (3, -0.7504950595299125),\n",
       "  (4, -0.7994214620479222),\n",
       "  (5, -0.9117444086051965),\n",
       "  (6, -0.8742984804590337),\n",
       "  (7, -0.8710291270868744),\n",
       "  (8, -0.8688488893649806),\n",
       "  (9, -0.8958736586038624),\n",
       "  (10, -0.8502340903278174),\n",
       "  (11, -0.8645891158249434),\n",
       "  (12, -0.9285382719510974),\n",
       "  (13, -0.9699588752609024),\n",
       "  (14, -1.0155847893979404),\n",
       "  (15, -0.991694472219797),\n",
       "  (16, -1.1455653708877716),\n",
       "  (17, -1.1329309597904804),\n",
       "  (18, -1.12513864762165),\n",
       "  (19, -1.0398324701285993),\n",
       "  (20, -1.0724205049795876),\n",
       "  (21, -0.9403288756705258),\n",
       "  (22, -0.9745379704654166),\n",
       "  (23, -0.9814975243155333),\n",
       "  (24, -0.9560154063432689),\n",
       "  (25, -0.8994268592981693),\n",
       "  (26, -0.7942723144597766),\n",
       "  (27, -0.7206649153085108),\n",
       "  (28, -0.7210589171450564),\n",
       "  (29, -0.8707683808507272),\n",
       "  (30, -0.8622526726891666),\n",
       "  (31, -0.9779894680497326),\n",
       "  (32, -1.0332284055963423),\n",
       "  (33, -1.075781685653999),\n",
       "  (34, -0.9267308259325109),\n",
       "  (35, -0.9093753701355475),\n",
       "  (36, -0.8546768434479676),\n",
       "  (37, -0.8146366878091238),\n",
       "  (38, -0.7283221772090288),\n",
       "  (39, -0.7576327105164095),\n",
       "  (40, -0.8074814685551823),\n",
       "  (41, -0.8403668179533643)]}"
      ]
     },
     "execution_count": 250,
     "metadata": {},
     "output_type": "execute_result"
    }
   ],
   "source": [
    "a"
   ]
  },
  {
   "cell_type": "code",
   "execution_count": null,
   "id": "bbc0f7b0-1fed-4d6e-a4a0-f5ceead81e74",
   "metadata": {},
   "outputs": [],
   "source": []
  },
  {
   "cell_type": "code",
   "execution_count": null,
   "id": "a344d062-debb-4ba0-887e-3ef0290d25c0",
   "metadata": {},
   "outputs": [],
   "source": []
  },
  {
   "cell_type": "code",
   "execution_count": null,
   "id": "c75ba531-0b56-42b4-a3a4-ca3a3c247956",
   "metadata": {},
   "outputs": [],
   "source": []
  },
  {
   "cell_type": "code",
   "execution_count": 9,
   "id": "cbbc3786-cb98-4378-a404-23fbc1b12d2c",
   "metadata": {},
   "outputs": [
    {
     "name": "stdout",
     "output_type": "stream",
     "text": [
      "200\n",
      "{'err': 0, 'data': [[-8.25041227769142, -55.17685588652, 0.619519246511073, 'jc1'], [-8.17711736493474, -45.4946733035753, -0.833248654252203, 'jc1'], [-11.3237274510885, -54.7322225787412, -0.741401263322975, 'jc1'], [-13.3974385377375, -54.2829061530929, 0.665661563804599, 'jc1'], [-13.3040581912073, -54.3012010684599, 2.24041774371044, 'jc1'], [-4.98548293210688, -35.898469030872, 0.87701741671521, 'jc2'], [-8.17717873050415, -45.4946946344065, -0.832885113039116, 'jc2'], [-9.7074970262532, -45.1948044187776, -0.854094743453206, 'jc2'], [-11.870263129032, -45.4622946656112, 0.459547745636723, 'jc2'], [-11.7861433795561, -45.4344253323938, 2.1446848770042, 'jc2'], [-7.27991828700309, -44.7035077065122, -0.826098535618528, 'jc3'], [-8.17728080727888, -45.4947530276968, -0.832857634963538, 'jc3'], [-9.70763551853321, -45.1946732751124, -0.854048901003128, 'jc3'], [-10.2562818573821, -35.0774176879201, 0.430010396946658, 'jc3'], [-10.1651146167103, -35.0728424365923, 1.8635554352071, 'jc3'], [-3.52632404163058, -25.5139547305774, -0.138130027395278, 'jc4'], [-4.97418824046358, -25.6402191939824, -1.16413833119181, 'jc4'], [-6.55411532538013, -25.6785532780456, -1.18034431190613, 'jc4'], [-8.58116623747949, -24.7346399908269, 0.18482390741332, 'jc4'], [-8.5414238419714, -24.7032204269836, 1.62691153094629, 'jc4'], [-2.02669720220227, -16.5932312026474, 0.393704432538329, 'jc5'], [-3.53832943311556, -15.756931918824, -1.37983955310199, 'jc5'], [-5.05706715001187, -15.5393313124362, -1.40057888899009, 'jc5'], [-7.28258350715084, -15.8487626084547, 0.0960170789998475, 'jc5'], [-7.19718583555709, -15.8132575682557, 1.49043075047446, 'jc5'], [-0.731840674429287, -6.18504996568694, -0.586381354634856, 'jc6'], [-2.17103390098076, -6.19112511241675, -1.61419860091405, 'jc6'], [-3.67195197451784, -5.46593684984741, -1.64856982617952, 'jc6'], [-5.599071375527, -3.98997403416693, -0.243284756899985, 'jc6'], [-5.54873245247724, -3.95585679317804, 1.15413622687508, 'jc6'], [0.670690000386326, 4.23729844533142, -0.849618449419287, 'jc7'], [-0.778819308609778, 3.86802223047379, -1.86970667736415, 'jc7'], [-2.37631852265789, 4.12128890966609, -1.89035978368885, 'jc7'], [-4.38618461393775, 4.92749812047633, -0.572485101720522, 'jc7'], [-4.3539536386092, 4.96938366296311, 0.920427468964366, 'jc7'], [1.93674871024155, 14.658375004557, -1.40230058311581, 'jc8'], [0.523755323014068, 14.0024798853533, -2.1278163062433, 'jc8'], [-1.04582378350567, 14.1635660862747, -2.14086897184252, 'jc8'], [-2.97112620735615, 15.34509170278, -0.857597108459862, 'jc8'], [-3.04632430364388, 15.3604258518809, 0.246237299396912, 'jc8'], [3.3347482210758, 23.6256348071867, -0.618957803441099, 'jc9'], [1.79018449755992, 24.0475294881022, -2.38600254210506, 'jc9'], [0.170050354017395, 24.2418361914969, -2.39193317211672, 'jc9'], [-1.89531008498239, 24.2379705110292, -1.05482481240934, 'jc9'], [-1.92514266834407, 24.2670509040566, 0.165749307414229, 'jc9'], [4.42852816546422, 34.0361085172764, -1.61713086996537, 'jc10'], [2.92709390298481, 33.618167451953, -2.63136129068203, 'jc10'], [1.36510497530032, 33.8736814973488, -2.63426671948849, 'jc10'], [-0.637459203544322, 34.653725040935, -1.30384535522088, 'jc10'], [-0.597865617203669, 34.6959344750289, 0.167630461155971, 'jc10'], [5.56131649262174, 42.9944573923223, -1.78454581356464, 'jc11'], [4.18094654024237, 43.7701626202295, -2.8850666341927, 'jc11'], [2.61938452339778, 43.9158876420173, -2.88511979326837, 'jc11'], [0.461380705788553, 43.5795821735792, -1.53933679266861, 'jc11'], [0.507885842808758, 43.626396020491, -0.0606023353255559, 'jc11']]}\n"
     ]
    }
   ],
   "source": [
    "import requests\n",
    "\n",
    "url = \"http://0.0.0.0:8800/tunnel/point\"\n",
    "\n",
    "response = requests.get(url)\n",
    "print(response.status_code)\n",
    "print(response.json())"
   ]
  },
  {
   "cell_type": "code",
   "execution_count": null,
   "id": "553ac49f-9745-4c3a-9ac7-6cdc383fe823",
   "metadata": {},
   "outputs": [],
   "source": []
  },
  {
   "cell_type": "code",
   "execution_count": null,
   "id": "60e62067-61e8-4ee2-8cbd-3724d4c0c7a7",
   "metadata": {},
   "outputs": [],
   "source": []
  },
  {
   "cell_type": "code",
   "execution_count": null,
   "id": "b34512ec-e421-45f0-bc36-a50721e57630",
   "metadata": {},
   "outputs": [],
   "source": []
  },
  {
   "cell_type": "code",
   "execution_count": 344,
   "id": "bce6e361-f5a1-4ff4-b9b8-9e03927ab028",
   "metadata": {},
   "outputs": [
    {
     "name": "stdout",
     "output_type": "stream",
     "text": [
      "200\n",
      "{'err': 0, 'data': [[-8.25041227769142, -55.17685588652, 0.619519246511073, 'jc1'], [-8.17711736493474, -45.4946733035753, -0.833248654252203, 'jc1'], [-11.3237274510885, -54.7322225787412, -0.741401263322975, 'jc1'], [-13.3974385377375, -54.2829061530929, 0.665661563804599, 'jc1'], [-13.3040581912073, -54.3012010684599, 2.24041774371044, 'jc1'], [-4.98548293210688, -35.898469030872, 0.87701741671521, 'jc2'], [-8.17717873050415, -45.4946946344065, -0.832885113039116, 'jc2'], [-9.7074970262532, -45.1948044187776, -0.854094743453206, 'jc2'], [-11.870263129032, -45.4622946656112, 0.459547745636723, 'jc2'], [-11.7861433795561, -45.4344253323938, 2.1446848770042, 'jc2'], [-7.27991828700309, -44.7035077065122, -0.826098535618528, 'jc3'], [-8.17728080727888, -45.4947530276968, -0.832857634963538, 'jc3'], [-9.70763551853321, -45.1946732751124, -0.854048901003128, 'jc3'], [-10.2562818573821, -35.0774176879201, 0.430010396946658, 'jc3'], [-10.1651146167103, -35.0728424365923, 1.8635554352071, 'jc3'], [-3.52632404163058, -25.5139547305774, -0.138130027395278, 'jc4'], [-4.97418824046358, -25.6402191939824, -1.16413833119181, 'jc4'], [-6.55411532538013, -25.6785532780456, -1.18034431190613, 'jc4'], [-8.58116623747949, -24.7346399908269, 0.18482390741332, 'jc4'], [-8.5414238419714, -24.7032204269836, 1.62691153094629, 'jc4'], [-2.02669720220227, -16.5932312026474, 0.393704432538329, 'jc5'], [-3.53832943311556, -15.756931918824, -1.37983955310199, 'jc5'], [-5.05706715001187, -15.5393313124362, -1.40057888899009, 'jc5'], [-7.28258350715084, -15.8487626084547, 0.0960170789998475, 'jc5'], [-7.19718583555709, -15.8132575682557, 1.49043075047446, 'jc5'], [-0.731840674429287, -6.18504996568694, -0.586381354634856, 'jc6'], [-2.17103390098076, -6.19112511241675, -1.61419860091405, 'jc6'], [-3.67195197451784, -5.46593684984741, -1.64856982617952, 'jc6'], [-5.599071375527, -3.98997403416693, -0.243284756899985, 'jc6'], [-5.54873245247724, -3.95585679317804, 1.15413622687508, 'jc6'], [0.670690000386326, 4.23729844533142, -0.849618449419287, 'jc7'], [-0.778819308609778, 3.86802223047379, -1.86970667736415, 'jc7'], [-2.37631852265789, 4.12128890966609, -1.89035978368885, 'jc7'], [-4.38618461393775, 4.92749812047633, -0.572485101720522, 'jc7'], [-4.3539536386092, 4.96938366296311, 0.920427468964366, 'jc7'], [1.93674871024155, 14.658375004557, -1.40230058311581, 'jc8'], [0.523755323014068, 14.0024798853533, -2.1278163062433, 'jc8'], [-1.04582378350567, 14.1635660862747, -2.14086897184252, 'jc8'], [-2.97112620735615, 15.34509170278, -0.857597108459862, 'jc8'], [-3.04632430364388, 15.3604258518809, 0.246237299396912, 'jc8'], [3.3347482210758, 23.6256348071867, -0.618957803441099, 'jc9'], [1.79018449755992, 24.0475294881022, -2.38600254210506, 'jc9'], [0.170050354017395, 24.2418361914969, -2.39193317211672, 'jc9'], [-1.89531008498239, 24.2379705110292, -1.05482481240934, 'jc9'], [-1.92514266834407, 24.2670509040566, 0.165749307414229, 'jc9'], [4.42852816546422, 34.0361085172764, -1.61713086996537, 'jc10'], [2.92709390298481, 33.618167451953, -2.63136129068203, 'jc10'], [1.36510497530032, 33.8736814973488, -2.63426671948849, 'jc10'], [-0.637459203544322, 34.653725040935, -1.30384535522088, 'jc10'], [-0.597865617203669, 34.6959344750289, 0.167630461155971, 'jc10'], [5.56131649262174, 42.9944573923223, -1.78454581356464, 'jc11'], [4.18094654024237, 43.7701626202295, -2.8850666341927, 'jc11'], [2.61938452339778, 43.9158876420173, -2.88511979326837, 'jc11'], [0.461380705788553, 43.5795821735792, -1.53933679266861, 'jc11'], [0.507885842808758, 43.626396020491, -0.0606023353255559, 'jc11']]}\n"
     ]
    }
   ],
   "source": [
    "import requests\n",
    "\n",
    "url = \"http://0.0.0.0:8000/tunnel/point\"\n",
    "\n",
    "response = requests.get(url)\n",
    "print(response.status_code)\n",
    "print(response.json())"
   ]
  },
  {
   "cell_type": "code",
   "execution_count": 310,
   "id": "c264163f-f1fb-4e89-a583-1341373f79d4",
   "metadata": {},
   "outputs": [],
   "source": [
    "target = response.json()['data'][10]\n",
    "x, y, z, cate = target\n",
    "a = {'x':x, 'y': y, 'z': z, 'cate': cate}"
   ]
  },
  {
   "cell_type": "code",
   "execution_count": null,
   "id": "0b1fa7d5-dba9-456a-8ddd-b5b029e3d4df",
   "metadata": {},
   "outputs": [],
   "source": []
  },
  {
   "cell_type": "code",
   "execution_count": 345,
   "id": "deb35cb1-48ec-4421-bf46-b77350d7eb36",
   "metadata": {},
   "outputs": [
    {
     "name": "stdout",
     "output_type": "stream",
     "text": [
      "200\n",
      "{'err': 0, 'data': [[-8.25041227769142, -55.17685588652, 0.619519246511073, 'jc1'], [-8.17711736493474, -45.4946733035753, -0.833248654252203, 'jc1'], [-11.3237274510885, -54.7322225787412, -0.741401263322975, 'jc1'], [-13.3974385377375, -54.2829061530929, 0.665661563804599, 'jc1'], [-13.3040581912073, -54.3012010684599, 2.24041774371044, 'jc1'], [-4.98548293210688, -35.898469030872, 0.87701741671521, 'jc2'], [-8.17717873050415, -45.4946946344065, -0.832885113039116, 'jc2'], [-9.7074970262532, -45.1948044187776, -0.854094743453206, 'jc2'], [-11.870263129032, -45.4622946656112, 0.459547745636723, 'jc2'], [-11.7861433795561, -45.4344253323938, 2.1446848770042, 'jc2'], [-7.27991828700309, -44.7035077065122, -0.826098535618528, 'jc3'], [-8.17728080727888, -45.4947530276968, -0.832857634963538, 'jc3'], [-9.70763551853321, -45.1946732751124, -0.854048901003128, 'jc3'], [-10.2562818573821, -35.0774176879201, 0.430010396946658, 'jc3'], [-10.1651146167103, -35.0728424365923, 1.8635554352071, 'jc3'], [-3.52632404163058, -25.5139547305774, -0.138130027395278, 'jc4'], [-4.97418824046358, -25.6402191939824, -1.16413833119181, 'jc4'], [-6.55411532538013, -25.6785532780456, -1.18034431190613, 'jc4'], [-8.58116623747949, -24.7346399908269, 0.18482390741332, 'jc4'], [-8.5414238419714, -24.7032204269836, 1.62691153094629, 'jc4'], [-2.02669720220227, -16.5932312026474, 0.393704432538329, 'jc5'], [-3.53832943311556, -15.756931918824, -1.37983955310199, 'jc5'], [-5.05706715001187, -15.5393313124362, -1.40057888899009, 'jc5'], [-7.28258350715084, -15.8487626084547, 0.0960170789998475, 'jc5'], [-7.19718583555709, -15.8132575682557, 1.49043075047446, 'jc5'], [-0.731840674429287, -6.18504996568694, -0.586381354634856, 'jc6'], [-2.17103390098076, -6.19112511241675, -1.61419860091405, 'jc6'], [-3.67195197451784, -5.46593684984741, -1.64856982617952, 'jc6'], [-5.599071375527, -3.98997403416693, -0.243284756899985, 'jc6'], [-5.54873245247724, -3.95585679317804, 1.15413622687508, 'jc6'], [0.670690000386326, 4.23729844533142, -0.849618449419287, 'jc7'], [-0.778819308609778, 3.86802223047379, -1.86970667736415, 'jc7'], [-2.37631852265789, 4.12128890966609, -1.89035978368885, 'jc7'], [-4.38618461393775, 4.92749812047633, -0.572485101720522, 'jc7'], [-4.3539536386092, 4.96938366296311, 0.920427468964366, 'jc7'], [1.93674871024155, 14.658375004557, -1.40230058311581, 'jc8'], [0.523755323014068, 14.0024798853533, -2.1278163062433, 'jc8'], [-1.04582378350567, 14.1635660862747, -2.14086897184252, 'jc8'], [-2.97112620735615, 15.34509170278, -0.857597108459862, 'jc8'], [-3.04632430364388, 15.3604258518809, 0.246237299396912, 'jc8'], [3.3347482210758, 23.6256348071867, -0.618957803441099, 'jc9'], [1.79018449755992, 24.0475294881022, -2.38600254210506, 'jc9'], [0.170050354017395, 24.2418361914969, -2.39193317211672, 'jc9'], [-1.89531008498239, 24.2379705110292, -1.05482481240934, 'jc9'], [-1.92514266834407, 24.2670509040566, 0.165749307414229, 'jc9'], [4.42852816546422, 34.0361085172764, -1.61713086996537, 'jc10'], [2.92709390298481, 33.618167451953, -2.63136129068203, 'jc10'], [1.36510497530032, 33.8736814973488, -2.63426671948849, 'jc10'], [-0.637459203544322, 34.653725040935, -1.30384535522088, 'jc10'], [-0.597865617203669, 34.6959344750289, 0.167630461155971, 'jc10'], [5.56131649262174, 42.9944573923223, -1.78454581356464, 'jc11'], [4.18094654024237, 43.7701626202295, -2.8850666341927, 'jc11'], [2.61938452339778, 43.9158876420173, -2.88511979326837, 'jc11'], [0.461380705788553, 43.5795821735792, -1.53933679266861, 'jc11'], [0.507885842808758, 43.626396020491, -0.0606023353255559, 'jc11']]}\n"
     ]
    }
   ],
   "source": [
    "import requests\n",
    "\n",
    "url = \"http://0.0.0.0:8000/tunnel/point\"\n",
    "\n",
    "response = requests.get(url)\n",
    "print(response.status_code)\n",
    "print(response.json())"
   ]
  },
  {
   "cell_type": "code",
   "execution_count": 346,
   "id": "b4ac8d83-ab40-42f3-b682-1112ee0a1ece",
   "metadata": {},
   "outputs": [
    {
     "name": "stdout",
     "output_type": "stream",
     "text": [
      "{\"err\":0,\"x\":[[0,-0.1895890880120989],[1,-0.17543854069375103],[2,-0.12686385166631464],[3,-0.09691064071297728],[4,-0.1401314530013132],[5,-0.07623030854873032],[6,-0.043263540537008406],[7,-0.03007939312658068],[8,-0.03053310596108346],[9,-0.0053974465576088594],[10,-0.03315202986398078],[11,-0.0671410299331931],[12,-0.04522670909103961],[13,-0.06309508373565358],[14,-0.07648164998892418],[15,-0.05496597449718969],[16,-0.07606259492778378],[17,-0.10832534105000846],[18,-0.10691554912289906],[19,-0.10712112058239867],[20,-0.10833027849441748],[21,-0.09254583796849407],[22,-0.0860368157327152],[23,-0.036801009450559995],[24,-0.0428293930105462],[25,-0.047384180045195824],[26,-0.06724921121845641],[27,-0.04029953679749454],[28,-0.06612886746211188],[29,-0.05056556416089808],[30,-0.11192081494684188],[31,-0.09790540448415527],[32,-0.15814683745931632],[33,-0.16879358540418102],[34,-0.15917330495911475],[35,-0.13947423492171035],[36,-0.15229975709249993],[37,-0.15253549597371577]],\"y\":[[0,-0.6789801916802671],[1,-0.6773657638674988],[2,-0.6794680656199146],[3,-0.6919376213332384],[4,-0.7072363877234978],[5,-0.7336733389848861],[6,-0.7581861059129836],[7,-0.7683938870115979],[8,-0.7395463442122716],[9,-0.7494535922774046],[10,-0.756634855538607],[11,-0.7302860850145974],[12,-0.7218007691754733],[13,-0.7421590824932878],[14,-0.732844762702456],[15,-0.717953937194693],[16,-0.7353347423887158],[17,-0.7418310098884717],[18,-0.7349930536207694],[19,-0.7089004955886934],[20,-0.6986605725906258],[21,-0.6810131181062219],[22,-0.6901680189272952],[23,-0.6846121709052966],[24,-0.6969097787028035],[25,-0.7113467953161037],[26,-0.7146281368832776],[27,-0.708399273464977],[28,-0.7167508266782364],[29,-0.716100800674724],[30,-0.7076413710926488],[31,-0.6934639437844223],[32,-0.65740764720843],[33,-0.6527401038937342],[34,-0.6610224188975166],[35,-0.6541369510578932],[36,-0.6640994202143702],[37,-0.708553840481585]],\"z\":[[0,-0.7994214620479222],[1,-0.9117444086051965],[2,-0.8742984804590337],[3,-0.8710291270868744],[4,-0.8688488893649806],[5,-0.8958736586038624],[6,-0.8502340903278174],[7,-0.8645891158249434],[8,-0.9285382719510974],[9,-0.9699588752609024],[10,-1.0155847893979404],[11,-0.991694472219797],[12,-1.1455653708877716],[13,-1.1329309597904804],[14,-1.12513864762165],[15,-1.0398324701285993],[16,-1.0724205049795876],[17,-0.9403288756705258],[18,-0.9745379704654166],[19,-0.9814975243155333],[20,-0.9560154063432689],[21,-0.8994268592981693],[22,-0.7942723144597766],[23,-0.7206649153085108],[24,-0.7210589171450564],[25,-0.8707683808507272],[26,-0.8622526726891666],[27,-0.9779894680497326],[28,-1.0332284055963423],[29,-1.075781685653999],[30,-0.9267308259325109],[31,-0.9093753701355475],[32,-0.8546768434479676],[33,-0.8146366878091238],[34,-0.7283221772090288],[35,-0.7576327105164095],[36,-0.8074814685551823],[37,-0.8403668179533643]]}"
     ]
    }
   ],
   "source": [
    "!curl \"http://localhost:8000/pic/point?x=-2.02669720220227&y=-16.5932312026474&z=0.393704432538329&cat=jc5\""
   ]
  },
  {
   "cell_type": "code",
   "execution_count": 319,
   "id": "08443bb5-a45c-4d71-9b60-fea72b5e14ac",
   "metadata": {},
   "outputs": [
    {
     "name": "stdout",
     "output_type": "stream",
     "text": [
      "^C\n"
     ]
    }
   ],
   "source": [
    "!curl \"http://localhost:8800/pic/point?x=-2.02669720220227&y=-16.5932312026474&z=0.393704432538329&cate=jc5\""
   ]
  },
  {
   "cell_type": "code",
   "execution_count": null,
   "id": "e3934448-dc5b-4300-8697-82fd4b08da25",
   "metadata": {},
   "outputs": [],
   "source": []
  },
  {
   "cell_type": "code",
   "execution_count": 259,
   "id": "c38e2c0b-1ea2-435e-ac91-2ddaf95796e9",
   "metadata": {},
   "outputs": [
    {
     "data": {
      "text/plain": [
       "0     -8.250412\n",
       "1     -8.177117\n",
       "2    -11.323727\n",
       "3    -13.397439\n",
       "4    -13.304058\n",
       "5     -4.985483\n",
       "6     -8.177179\n",
       "7     -9.707497\n",
       "8    -11.870263\n",
       "9    -11.786143\n",
       "10    -7.279918\n",
       "11    -8.177281\n",
       "12    -9.707636\n",
       "13   -10.256282\n",
       "14   -10.165115\n",
       "15    -3.526324\n",
       "16    -4.974188\n",
       "17    -6.554115\n",
       "18    -8.581166\n",
       "19    -8.541424\n",
       "20    -2.026697\n",
       "21    -3.538329\n",
       "22    -5.057067\n",
       "23    -7.282584\n",
       "24    -7.197186\n",
       "25    -0.731841\n",
       "26    -2.171034\n",
       "27    -3.671952\n",
       "28    -5.599071\n",
       "29    -5.548732\n",
       "30     0.670690\n",
       "31    -0.778819\n",
       "32    -2.376319\n",
       "33    -4.386185\n",
       "34    -4.353954\n",
       "35     1.936749\n",
       "36     0.523755\n",
       "37    -1.045824\n",
       "38    -2.971126\n",
       "39    -3.046324\n",
       "40     3.334748\n",
       "41     1.790184\n",
       "42     0.170050\n",
       "43    -1.895310\n",
       "44    -1.925143\n",
       "45     4.428528\n",
       "46     2.927094\n",
       "47     1.365105\n",
       "48    -0.637459\n",
       "49    -0.597866\n",
       "50     5.561316\n",
       "51     4.180947\n",
       "52     2.619385\n",
       "53     0.461381\n",
       "54     0.507886\n",
       "Name: 东坐标, dtype: float64"
      ]
     },
     "execution_count": 259,
     "metadata": {},
     "output_type": "execute_result"
    }
   ],
   "source": [
    "df_index['东坐标']"
   ]
  },
  {
   "cell_type": "code",
   "execution_count": null,
   "id": "722d48d9-9e7b-4037-8c14-4868d3472bba",
   "metadata": {},
   "outputs": [],
   "source": []
  }
 ],
 "metadata": {
  "kernelspec": {
   "display_name": "Python 3 (ipykernel)",
   "language": "python",
   "name": "python3"
  },
  "language_info": {
   "codemirror_mode": {
    "name": "ipython",
    "version": 3
   },
   "file_extension": ".py",
   "mimetype": "text/x-python",
   "name": "python",
   "nbconvert_exporter": "python",
   "pygments_lexer": "ipython3",
   "version": "3.13.5"
  }
 },
 "nbformat": 4,
 "nbformat_minor": 5
}
